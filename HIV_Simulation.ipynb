{
  "cells": [
    {
      "cell_type": "markdown",
      "metadata": {
        "id": "view-in-github",
        "colab_type": "text"
      },
      "source": [
        "<a href=\"https://colab.research.google.com/github/medsellufbc/BMI/blob/main/HIV_Simulation.ipynb\" target=\"_parent\"><img src=\"https://colab.research.google.com/assets/colab-badge.svg\" alt=\"Open In Colab\"/></a>"
      ]
    },
    {
      "cell_type": "code",
      "execution_count": 1,
      "id": "fc94be81",
      "metadata": {
        "colab": {
          "base_uri": "https://localhost:8080/"
        },
        "id": "fc94be81",
        "outputId": "ae55b232-d30d-439e-e75a-5cca82326e8a"
      },
      "outputs": [
        {
          "output_type": "stream",
          "name": "stdout",
          "text": [
            "The human immunodeficiency virus (HIV) infection spreads and can develop into acquired immunodeficiency syndrome (AIDS). AIDS can lead to immune system failure and eventual inability to defend the body against infection or cancer. Without treatment with antiretroviral drugs, survival time after infection with HIV is about 9 to 11 years, depending on a number of factors. Antiretroviral drugs such as TDF (tenofovir), either 3TC (lamivudine) or FTC (emtricitabine), and EFV (efavirenz) are recommended by the World Health Organization as soon as HIV infection is diagnosed. This simulation predicts the spread of HIV infection in a body with an initial infection.The spread of HIV in a patient is approximated with balance equations on (H)ealthy, (I)nfected, and (V)irus population counts.\n"
          ]
        }
      ],
      "source": [
        "print(\"The human immunodeficiency virus (HIV) infection spreads and can develop into acquired immunodeficiency syndrome (AIDS). AIDS can lead to immune system failure and eventual inability to defend the body against infection or cancer. Without treatment with antiretroviral drugs, survival time after infection with HIV is about 9 to 11 years, depending on a number of factors. Antiretroviral drugs such as TDF (tenofovir), either 3TC (lamivudine) or FTC (emtricitabine), and EFV (efavirenz) are recommended by the World Health Organization as soon as HIV infection is diagnosed. This simulation predicts the spread of HIV infection in a body with an initial infection.The spread of HIV in a patient is approximated with balance equations on (H)ealthy, (I)nfected, and (V)irus population counts.\")"
      ]
    },
    {
      "cell_type": "code",
      "execution_count": 2,
      "id": "3c4ebb9d",
      "metadata": {
        "colab": {
          "base_uri": "https://localhost:8080/",
          "height": 265
        },
        "id": "3c4ebb9d",
        "outputId": "cff9c9aa-bfa1-4006-e3df-73190c8446a4"
      },
      "outputs": [
        {
          "output_type": "display_data",
          "data": {
            "text/plain": [
              "<Figure size 432x288 with 1 Axes>"
            ],
            "image/png": "[encoded data removed]"
          },
          "metadata": {
            "needs_background": "light"
          }
        }
      ],
      "source": [
        "import numpy as np\n",
        "from scipy.integrate import odeint\n",
        "import matplotlib.pyplot as plt\n",
        "\n",
        "def hiv(x,t):\n",
        "    kr1 = 1e5\n",
        "    kr2 = 0.1\n",
        "    kr3 = 2e-7\n",
        "    kr4 = 0.5\n",
        "    kr5 = 5\n",
        "    kr6 = 100\n",
        "    kr7 = 1.0\n",
        "    \n",
        "    if t >3.0:\n",
        "        A = 10\n",
        "    else:\n",
        "        A = 0.0\n",
        "    \n",
        "    h = x[0]\n",
        "    i = x[1]\n",
        "    v = x[2]\n",
        "    p =kr3*h*v\n",
        "    dhdt = kr1 - kr2*h - p\n",
        "    didt = p - kr4*i\n",
        "    dvdt = -p - kr5*v + kr6*i - kr7*A*v\n",
        "    return [dhdt, didt, dvdt]\n",
        "\n",
        "x0 = [1e6,0,100]\n",
        "t = np.linspace(0,15,1000)\n",
        "x = odeint(hiv,x0,t)\n",
        "\n",
        "h = x[:,0]\n",
        "i = x[:,1]\n",
        "v = x[:,2]\n",
        "\n",
        "plt.semilogy(t, h)\n",
        "plt.semilogy(t, i)\n",
        "plt.semilogy(t, v)\n",
        "\n",
        "plt.show()\n"
      ]
    },
    {
      "cell_type": "code",
      "execution_count": null,
      "id": "3d3884d9",
      "metadata": {
        "id": "3d3884d9"
      },
      "outputs": [],
      "source": []
    }
  ],
  "metadata": {
    "kernelspec": {
      "display_name": "Python 3 (ipykernel)",
      "language": "python",
      "name": "python3"
    },
    "language_info": {
      "codemirror_mode": {
        "name": "ipython",
        "version": 3
      },
      "file_extension": ".py",
      "mimetype": "text/x-python",
      "name": "python",
      "nbconvert_exporter": "python",
      "pygments_lexer": "ipython3",
      "version": "3.10.7"
    },
    "colab": {
      "provenance": [],
      "include_colab_link": true
    }
  },
  "nbformat": 4,
  "nbformat_minor": 5
}