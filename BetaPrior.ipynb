{
  "cells": [
    {
      "cell_type": "markdown",
      "metadata": {
        "id": "view-in-github",
        "colab_type": "text"
      },
      "source": [
        "<a href=\"https://colab.research.google.com/github/medsellufbc/BMI/blob/main/BetaPrior.ipynb\" target=\"_parent\"><img src=\"https://colab.research.google.com/assets/colab-badge.svg\" alt=\"Open In Colab\"/></a>"
      ]
    },
    {
      "cell_type": "code",
      "execution_count": 1,
      "id": "6ecd893e",
      "metadata": {
        "id": "6ecd893e"
      },
      "outputs": [],
      "source": [
        "import numpy as np\n",
        "from scipy.special import expit, logit"
      ]
    },
    {
      "cell_type": "code",
      "execution_count": 2,
      "id": "10b881bb",
      "metadata": {
        "colab": {
          "base_uri": "https://localhost:8080/"
        },
        "id": "10b881bb",
        "outputId": "15546d7f-82ab-4f0e-bc0e-a459141190ce"
      },
      "outputs": [
        {
          "output_type": "execute_result",
          "data": {
            "text/plain": [
              "array([0.        , 0.18242552, 0.5       , 0.81757448, 1.        ])"
            ]
          },
          "metadata": {},
          "execution_count": 2
        }
      ],
      "source": [
        "expit([-np.inf, -1.5, 0, 1.5, np.inf])"
      ]
    },
    {
      "cell_type": "code",
      "execution_count": 3,
      "id": "54f9609f",
      "metadata": {
        "colab": {
          "base_uri": "https://localhost:8080/"
        },
        "id": "54f9609f",
        "outputId": "0a2bebd5-124f-47f5-9fc1-bf61b0cb8026"
      },
      "outputs": [
        {
          "output_type": "execute_result",
          "data": {
            "text/plain": [
              "array([-2.5,  0. ,  3.1,  5. ])"
            ]
          },
          "metadata": {},
          "execution_count": 3
        }
      ],
      "source": [
        "logit(expit([-2.5, 0, 3.1, 5.0]))"
      ]
    },
    {
      "cell_type": "code",
      "execution_count": 4,
      "id": "ed86728d",
      "metadata": {
        "colab": {
          "base_uri": "https://localhost:8080/",
          "height": 295
        },
        "id": "ed86728d",
        "outputId": "dc43bde8-faf2-4ffa-f8ee-232cada18352"
      },
      "outputs": [
        {
          "output_type": "display_data",
          "data": {
            "text/plain": [
              "<Figure size 432x288 with 1 Axes>"
            ],
            "image/png": "[encoded data removed]"
          },
          "metadata": {
            "needs_background": "light"
          }
        }
      ],
      "source": [
        "import matplotlib.pyplot as plt\n",
        "x = np.linspace(-6, 6, 121)\n",
        "y = expit(x)\n",
        "plt.plot(x, y)\n",
        "plt.grid()\n",
        "plt.xlim(-6, 6)\n",
        "plt.xlabel('x')\n",
        "plt.title('expit(x)')\n",
        "plt.show()"
      ]
    },
    {
      "cell_type": "code",
      "execution_count": null,
      "id": "171b0790",
      "metadata": {
        "id": "171b0790"
      },
      "outputs": [],
      "source": []
    }
  ],
  "metadata": {
    "kernelspec": {
      "display_name": "Python 3 (ipykernel)",
      "language": "python",
      "name": "python3"
    },
    "language_info": {
      "codemirror_mode": {
        "name": "ipython",
        "version": 3
      },
      "file_extension": ".py",
      "mimetype": "text/x-python",
      "name": "python",
      "nbconvert_exporter": "python",
      "pygments_lexer": "ipython3",
      "version": "3.10.7"
    },
    "colab": {
      "provenance": [],
      "include_colab_link": true
    }
  },
  "nbformat": 4,
  "nbformat_minor": 5
}