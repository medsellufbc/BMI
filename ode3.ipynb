{
  "cells": [
    {
      "cell_type": "markdown",
      "metadata": {
        "id": "view-in-github",
        "colab_type": "text"
      },
      "source": [
        "<a href=\"https://colab.research.google.com/github/medsellufbc/BMI/blob/main/ode3.ipynb\" target=\"_parent\"><img src=\"https://colab.research.google.com/assets/colab-badge.svg\" alt=\"Open In Colab\"/></a>"
      ]
    },
    {
      "cell_type": "code",
      "execution_count": null,
      "id": "d2152830",
      "metadata": {
        "id": "d2152830",
        "outputId": "9ef6f42e-6a16-4a96-c1f4-c60f66ffee49",
        "colab": {
          "base_uri": "https://localhost:8080/",
          "height": 359
        }
      },
      "outputs": [
        {
          "output_type": "stream",
          "name": "stderr",
          "text": [
            "<ipython-input-1-94a98347ed56>:11: RuntimeWarning: overflow encountered in double_scalars\n",
            "  xdot = np.array([-0.9*beta*x[0]*x[2],0.9*beta*x[0]*x[2]-alpha*x[1],\n",
            "<ipython-input-1-94a98347ed56>:29: RuntimeWarning: invalid value encountered in add\n",
            "  k2 = dt*f(t[k]+dt/2, x[:,k]+k1/2)\n"
          ]
        },
        {
          "output_type": "display_data",
          "data": {
            "text/plain": [
              "<Figure size 432x288 with 1 Axes>"
            ],
            "image/png": "[encoded data removed]"
          },
          "metadata": {
            "needs_background": "light"
          }
        }
      ],
      "source": [
        "import numpy as np\n",
        "import matplotlib.pyplot as plt\n",
        "\n",
        "# Define the General Model\n",
        "def mselluModel(x,params):\n",
        "    \n",
        "    alpha = params[\"alpha\"]\n",
        "    beta = params[\"beta\"]\n",
        "    gamma = params[\"gamma\"]\n",
        "    \n",
        "    xdot = np.array([-0.9*beta*x[0]*x[2],0.9*beta*x[0]*x[2]-alpha*x[1],\n",
        "                     alpha*x[1]-gamma*x[2], gamma*x[2]])\n",
        "    \n",
        "    return xdot\n",
        "        \n",
        "# RK4 Method\n",
        "def RungeKutta4(f, x0, t0, tf, dt):\n",
        "    \n",
        "    t = np.arange(t0, tf, dt)\n",
        "    nt = t.size\n",
        "    \n",
        "    nx = x0.size\n",
        "    x = np.zeros((nx,nt))\n",
        "    \n",
        "    x[:,0]=x0\n",
        "    \n",
        "    for k in range(nt - 1):\n",
        "        k1 = dt*f(t[k], x[:,k])\n",
        "        k2 = dt*f(t[k]+dt/2, x[:,k]+k1/2)\n",
        "        k3 = dt*f(t[k]+dt/2, x[:,k]+k2/2)\n",
        "        k4 = dt*f(t[k]+dt, x[:,k]+k3)\n",
        "        \n",
        "        dx = (k1 + 2*k2+2*k3 + k4)/6\n",
        "        \n",
        "        x[:,k+1]=x[:,k] + dx\n",
        "    return x, t\n",
        "\n",
        "# Define Problem\n",
        "\n",
        "params = {\"alpha\":0.2, \"beta\":0.7272, \"gamma\":0.30303}\n",
        "\n",
        "f = lambda t, x:mselluModel(x,params)\n",
        "\n",
        "x0 = np.array([1000,200,10,0])\n",
        "\n",
        "# Solve the Diff.Eq\n",
        "\n",
        "t0 = 0\n",
        "tf = 100\n",
        "dt = 0.1\n",
        "\n",
        "x, t = RungeKutta4(f, x0,t0,tf,dt)\n",
        "\n",
        "# Plot results\n",
        "plt.subplot(1, 3, 1)\n",
        "plt.plot(t,x[0,:], \"r\", label = \"Susceptible\")\n",
        "plt.plot(t,x[1,:], \"b\", label = \"Exposed\")\n",
        "plt.plot(t,x[2,:], \"g\", label = \"Infective\")\n",
        "plt.plot(t,x[3,:], \"p\", label = \"Removed\")\n",
        "plt.xlabel(\"Time(t)\")\n",
        "plt.grid()\n",
        "plt.legend()\n",
        "\n",
        "plt.show()\n",
        "    "
      ]
    },
    {
      "cell_type": "code",
      "execution_count": null,
      "id": "06e09cfc",
      "metadata": {
        "id": "06e09cfc"
      },
      "outputs": [],
      "source": []
    }
  ],
  "metadata": {
    "kernelspec": {
      "display_name": "Python 3 (ipykernel)",
      "language": "python",
      "name": "python3"
    },
    "language_info": {
      "codemirror_mode": {
        "name": "ipython",
        "version": 3
      },
      "file_extension": ".py",
      "mimetype": "text/x-python",
      "name": "python",
      "nbconvert_exporter": "python",
      "pygments_lexer": "ipython3",
      "version": "3.10.7"
    },
    "colab": {
      "provenance": [],
      "include_colab_link": true
    }
  },
  "nbformat": 4,
  "nbformat_minor": 5
}