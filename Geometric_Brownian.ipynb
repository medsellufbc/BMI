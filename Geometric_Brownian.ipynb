{
  "nbformat": 4,
  "nbformat_minor": 0,
  "metadata": {
    "colab": {
      "provenance": [],
      "authorship_tag": "ABX9TyPnLA6kZ39sJIRei1oCVzXZ",
      "include_colab_link": true
    },
    "kernelspec": {
      "name": "python3",
      "display_name": "Python 3"
    },
    "language_info": {
      "name": "python"
    }
  },
  "cells": [
    {
      "cell_type": "markdown",
      "metadata": {
        "id": "view-in-github",
        "colab_type": "text"
      },
      "source": [
        "<a href=\"https://colab.research.google.com/github/medsellufbc/BMI/blob/main/Geometric_Brownian.ipynb\" target=\"_parent\"><img src=\"https://colab.research.google.com/assets/colab-badge.svg\" alt=\"Open In Colab\"/></a>"
      ]
    },
    {
      "cell_type": "code",
      "execution_count": 1,
      "metadata": {
        "id": "qWVraNl5aIF-"
      },
      "outputs": [],
      "source": [
        "import numpy as  np\n",
        "import matplotlib.pyplot as plt"
      ]
    },
    {
      "cell_type": "code",
      "source": [
        "fig = plt.figure()\n",
        "ax = fig.add_subplot(111)"
      ],
      "metadata": {
        "colab": {
          "base_uri": "https://localhost:8080/",
          "height": 269
        },
        "id": "2GLyPTCfaasA",
        "outputId": "f437218a-2800-47ed-c713-9c6a5b50d7e5"
      },
      "execution_count": 2,
      "outputs": [
        {
          "output_type": "display_data",
          "data": {
            "text/plain": [
              "<Figure size 432x288 with 1 Axes>"
            ],
            "image/png": "[encoded data removed]"
          },
          "metadata": {
            "needs_background": "light"
          }
        }
      ]
    },
    {
      "cell_type": "code",
      "source": [
        "mu, sigma, X0 = 1, 1, 1\n"
      ],
      "metadata": {
        "id": "HxU2Uoedaot8"
      },
      "execution_count": 3,
      "outputs": []
    },
    {
      "cell_type": "code",
      "source": [
        "T = 1\n",
        "N = 2**8\n",
        "dt = 1.0/N\n",
        "t = np.arange(dt, 1 + dt, dt)\n"
      ],
      "metadata": {
        "id": "t054GGG_ayqu"
      },
      "execution_count": 4,
      "outputs": []
    },
    {
      "cell_type": "code",
      "source": [
        "np.random.seed(1)\n",
        "dB = np.sqrt(dt) * np.random.randn(N)\n",
        "B = np.cumsum(dB)     #Integration"
      ],
      "metadata": {
        "id": "QGawmLqbbMMc"
      },
      "execution_count": 5,
      "outputs": []
    },
    {
      "cell_type": "code",
      "source": [
        "X_Theory = X0 * np.exp((mu - 0.5*sigma**2)*t + (sigma*B))"
      ],
      "metadata": {
        "id": "VhQS1AiVb0me"
      },
      "execution_count": 6,
      "outputs": []
    },
    {
      "cell_type": "code",
      "source": [
        "X_simulation, X = [], X0\n",
        "for j in range(N):\n",
        "  X += mu*X*dt + sigma*X*dB[j]\n",
        "  X_simulation.append(X)"
      ],
      "metadata": {
        "id": "F25U_qyzcO62"
      },
      "execution_count": 11,
      "outputs": []
    },
    {
      "cell_type": "code",
      "source": [
        "plt.plot(t, X_Theory, label=\"Exact ($X_t$\")\n",
        "plt.plot(t, X_simulation, label=\"Euler Maruyama Scheme ($X_t$\")\n",
        "legend = ax.legend(loc='upper left', fontsize=14)\n",
        "plt.show()\n",
        "\n"
      ],
      "metadata": {
        "colab": {
          "base_uri": "https://localhost:8080/",
          "height": 283
        },
        "id": "-Tx2R1dKehpp",
        "outputId": "d3ea17f4-8e22-4304-e2e8-3167bd3f7795"
      },
      "execution_count": 15,
      "outputs": [
        {
          "output_type": "stream",
          "name": "stderr",
          "text": [
            "WARNING:matplotlib.legend:No handles with labels found to put in legend.\n"
          ]
        },
        {
          "output_type": "display_data",
          "data": {
            "text/plain": [
              "<Figure size 432x288 with 1 Axes>"
            ],
            "image/png": "[encoded data removed]"
          },
          "metadata": {
            "needs_background": "light"
          }
        }
      ]
    }
  ]
}