{
  "nbformat": 4,
  "nbformat_minor": 0,
  "metadata": {
    "colab": {
      "provenance": [],
      "authorship_tag": "ABX9TyMSb/yHc+ACEHV+pZJqkVy9",
      "include_colab_link": true
    },
    "kernelspec": {
      "name": "python3",
      "display_name": "Python 3"
    },
    "language_info": {
      "name": "python"
    }
  },
  "cells": [
    {
      "cell_type": "markdown",
      "metadata": {
        "id": "view-in-github",
        "colab_type": "text"
      },
      "source": [
        "<a href=\"https://colab.research.google.com/github/medsellufbc/BMI/blob/main/SEIRDV%20Dashboard_1.ipynb\" target=\"_parent\"><img src=\"https://colab.research.google.com/assets/colab-badge.svg\" alt=\"Open In Colab\"/></a>"
      ]
    },
    {
      "cell_type": "code",
      "source": [
        "!pip install dash"
      ],
      "metadata": {
        "id": "B-KDJHhzUdJ_",
        "colab": {
          "base_uri": "https://localhost:8080/"
        },
        "outputId": "2be44fae-d7bb-43d6-fa51-98b681b93836"
      },
      "execution_count": 1,
      "outputs": [
        {
          "output_type": "stream",
          "name": "stdout",
          "text": [
            "Collecting dash\n",
            "  Downloading dash-2.17.1-py3-none-any.whl (7.5 MB)\n",
            "\u001b[2K     \u001b[90m━━━━━━━━━━━━━━━━━━━━━━━━━━━━━━━━━━━━━━━━\u001b[0m \u001b[32m7.5/7.5 MB\u001b[0m \u001b[31m32.7 MB/s\u001b[0m eta \u001b[36m0:00:00\u001b[0m\n",
            "\u001b[?25hRequirement already satisfied: Flask<3.1,>=1.0.4 in /usr/local/lib/python3.10/dist-packages (from dash) (2.2.5)\n",
            "Requirement already satisfied: Werkzeug<3.1 in /usr/local/lib/python3.10/dist-packages (from dash) (3.0.3)\n",
            "Requirement already satisfied: plotly>=5.0.0 in /usr/local/lib/python3.10/dist-packages (from dash) (5.15.0)\n",
            "Collecting dash-html-components==2.0.0 (from dash)\n",
            "  Downloading dash_html_components-2.0.0-py3-none-any.whl (4.1 kB)\n",
            "Collecting dash-core-components==2.0.0 (from dash)\n",
            "  Downloading dash_core_components-2.0.0-py3-none-any.whl (3.8 kB)\n",
            "Collecting dash-table==5.0.0 (from dash)\n",
            "  Downloading dash_table-5.0.0-py3-none-any.whl (3.9 kB)\n",
            "Requirement already satisfied: importlib-metadata in /usr/local/lib/python3.10/dist-packages (from dash) (7.1.0)\n",
            "Requirement already satisfied: typing-extensions>=4.1.1 in /usr/local/lib/python3.10/dist-packages (from dash) (4.12.2)\n",
            "Requirement already satisfied: requests in /usr/local/lib/python3.10/dist-packages (from dash) (2.31.0)\n",
            "Collecting retrying (from dash)\n",
            "  Downloading retrying-1.3.4-py3-none-any.whl (11 kB)\n",
            "Requirement already satisfied: nest-asyncio in /usr/local/lib/python3.10/dist-packages (from dash) (1.6.0)\n",
            "Requirement already satisfied: setuptools in /usr/local/lib/python3.10/dist-packages (from dash) (67.7.2)\n",
            "Requirement already satisfied: Jinja2>=3.0 in /usr/local/lib/python3.10/dist-packages (from Flask<3.1,>=1.0.4->dash) (3.1.4)\n",
            "Requirement already satisfied: itsdangerous>=2.0 in /usr/local/lib/python3.10/dist-packages (from Flask<3.1,>=1.0.4->dash) (2.2.0)\n",
            "Requirement already satisfied: click>=8.0 in /usr/local/lib/python3.10/dist-packages (from Flask<3.1,>=1.0.4->dash) (8.1.7)\n",
            "Requirement already satisfied: tenacity>=6.2.0 in /usr/local/lib/python3.10/dist-packages (from plotly>=5.0.0->dash) (8.3.0)\n",
            "Requirement already satisfied: packaging in /usr/local/lib/python3.10/dist-packages (from plotly>=5.0.0->dash) (24.1)\n",
            "Requirement already satisfied: MarkupSafe>=2.1.1 in /usr/local/lib/python3.10/dist-packages (from Werkzeug<3.1->dash) (2.1.5)\n",
            "Requirement already satisfied: zipp>=0.5 in /usr/local/lib/python3.10/dist-packages (from importlib-metadata->dash) (3.19.2)\n",
            "Requirement already satisfied: charset-normalizer<4,>=2 in /usr/local/lib/python3.10/dist-packages (from requests->dash) (3.3.2)\n",
            "Requirement already satisfied: idna<4,>=2.5 in /usr/local/lib/python3.10/dist-packages (from requests->dash) (3.7)\n",
            "Requirement already satisfied: urllib3<3,>=1.21.1 in /usr/local/lib/python3.10/dist-packages (from requests->dash) (2.0.7)\n",
            "Requirement already satisfied: certifi>=2017.4.17 in /usr/local/lib/python3.10/dist-packages (from requests->dash) (2024.6.2)\n",
            "Requirement already satisfied: six>=1.7.0 in /usr/local/lib/python3.10/dist-packages (from retrying->dash) (1.16.0)\n",
            "Installing collected packages: dash-table, dash-html-components, dash-core-components, retrying, dash\n",
            "Successfully installed dash-2.17.1 dash-core-components-2.0.0 dash-html-components-2.0.0 dash-table-5.0.0 retrying-1.3.4\n"
          ]
        }
      ]
    },
    {
      "cell_type": "code",
      "source": [
        "import dash\n",
        "import dash_core_components as dcc\n",
        "import dash_html_components as html\n",
        "from dash.dependencies import Input, Output\n",
        "import plotly.express as px\n",
        "import pandas as pd\n",
        "\n",
        "# Sample data\n",
        "df = pd.DataFrame({\n",
        "    \"Fruit\": [\"Apples\", \"Oranges\", \"Bananas\", \"Apples\", \"Oranges\", \"Bananas\"],\n",
        "    \"Amount\": [4, 1, 2, 2, 4, 5],\n",
        "    \"City\": [\"SF\", \"SF\", \"SF\", \"Montreal\", \"Montreal\", \"Montreal\"]\n",
        "})\n",
        "\n",
        "# Initialize the app\n",
        "app = dash.Dash(__name__)\n",
        "\n",
        "# Layout of the app\n",
        "app.layout = html.Div([\n",
        "    html.H1(\"Fruit Sales Dashboard\"),\n",
        "    dcc.Dropdown(\n",
        "        id='city-dropdown',\n",
        "        options=[\n",
        "            {'label': 'San Francisco', 'value': 'SF'},\n",
        "            {'label': 'Montreal', 'value': 'Montreal'}\n",
        "        ],\n",
        "        value='SF'\n",
        "    ),\n",
        "    dcc.Graph(id='bar-chart')\n",
        "])\n",
        "\n",
        "# Callback to update the bar chart based on the selected city\n",
        "@app.callback(\n",
        "    Output('bar-chart', 'figure'),\n",
        "    [Input('city-dropdown', 'value')]\n",
        ")\n",
        "def update_chart(selected_city):\n",
        "    filtered_df = df[df['City'] == selected_city]\n",
        "    fig = px.bar(filtered_df, x='Fruit', y='Amount', color='Fruit', barmode='group')\n",
        "    return fig\n",
        "\n",
        "# Run the app\n",
        "if __name__ == '__main__':\n",
        "    app.run_server(debug=True)\n"
      ],
      "metadata": {
        "colab": {
          "base_uri": "https://localhost:8080/",
          "height": 810
        },
        "id": "Zfrb8pYgWL1v",
        "outputId": "9f8a492c-912a-4933-c958-645ce760b0a9"
      },
      "execution_count": 2,
      "outputs": [
        {
          "output_type": "stream",
          "name": "stderr",
          "text": [
            "<ipython-input-2-867ad7d660e3>:2: UserWarning: \n",
            "The dash_core_components package is deprecated. Please replace\n",
            "`import dash_core_components as dcc` with `from dash import dcc`\n",
            "  import dash_core_components as dcc\n",
            "<ipython-input-2-867ad7d660e3>:3: UserWarning: \n",
            "The dash_html_components package is deprecated. Please replace\n",
            "`import dash_html_components as html` with `from dash import html`\n",
            "  import dash_html_components as html\n"
          ]
        },
        {
          "output_type": "display_data",
          "data": {
            "text/plain": [
              "<IPython.core.display.Javascript object>"
            ],
            "application/javascript": [
              "(async (port, path, width, height, cache, element) => {\n",
              "    if (!google.colab.kernel.accessAllowed && !cache) {\n",
              "      return;\n",
              "    }\n",
              "    element.appendChild(document.createTextNode(''));\n",
              "    const url = await google.colab.kernel.proxyPort(port, {cache});\n",
              "    const iframe = document.createElement('iframe');\n",
              "    iframe.src = new URL(path, url).toString();\n",
              "    iframe.height = height;\n",
              "    iframe.width = width;\n",
              "    iframe.style.border = 0;\n",
              "    iframe.allow = [\n",
              "        'accelerometer',\n",
              "        'autoplay',\n",
              "        'camera',\n",
              "        'clipboard-read',\n",
              "        'clipboard-write',\n",
              "        'gyroscope',\n",
              "        'magnetometer',\n",
              "        'microphone',\n",
              "        'serial',\n",
              "        'usb',\n",
              "        'xr-spatial-tracking',\n",
              "    ].join('; ');\n",
              "    element.appendChild(iframe);\n",
              "  })(8050, \"/\", \"100%\", 650, false, window.element)"
            ]
          },
          "metadata": {}
        }
      ]
    },
    {
      "cell_type": "code",
      "source": [
        "import dash\n",
        "from dash import dcc, html\n",
        "from dash.dependencies import Input, Output\n",
        "import plotly.express as px\n",
        "import pandas as pd\n",
        "\n",
        "# Sample data\n",
        "df = pd.DataFrame({\n",
        "    \"Fruit\": [\"Apples\", \"Oranges\", \"Bananas\", \"Apples\", \"Oranges\", \"Bananas\"],\n",
        "    \"Amount\": [40, 18, 35, 25, 40, 35],\n",
        "    \"City\": [\"SF\", \"SF\", \"SF\", \"Montreal\", \"Montreal\", \"Montreal\"]\n",
        "})\n",
        "\n",
        "# Initialize the app\n",
        "app = dash.Dash(__name__)\n",
        "\n",
        "# Layout of the app\n",
        "app.layout = html.Div([\n",
        "    html.H1(\"Fruit Sales Dashboard\"),\n",
        "    dcc.Dropdown(\n",
        "        id='city-dropdown',\n",
        "        options=[\n",
        "            {'label': 'San Francisco', 'value': 'SF'},\n",
        "            {'label': 'Montreal', 'value': 'Montreal'}\n",
        "        ],\n",
        "        value='SF'\n",
        "    ),\n",
        "    dcc.Graph(id='bar-chart')\n",
        "])\n",
        "\n",
        "# Callback to update the bar chart based on the selected city\n",
        "@app.callback(\n",
        "    Output('bar-chart', 'figure'),\n",
        "    [Input('city-dropdown', 'value')]\n",
        ")\n",
        "def update_chart(selected_city):\n",
        "    filtered_df = df[df['City'] == selected_city]\n",
        "    fig = px.bar(filtered_df, x='Fruit', y='Amount', color='Fruit', barmode='group')\n",
        "    return fig\n",
        "\n",
        "# Run the app\n",
        "if __name__ == '__main__':\n",
        "    app.run_server(debug=True)\n"
      ],
      "metadata": {
        "colab": {
          "base_uri": "https://localhost:8080/",
          "height": 671
        },
        "id": "oErq2pR5YiYM",
        "outputId": "3da077e2-a69d-4245-ff1e-f21064153588"
      },
      "execution_count": 7,
      "outputs": [
        {
          "output_type": "display_data",
          "data": {
            "text/plain": [
              "<IPython.core.display.Javascript object>"
            ],
            "application/javascript": [
              "(async (port, path, width, height, cache, element) => {\n",
              "    if (!google.colab.kernel.accessAllowed && !cache) {\n",
              "      return;\n",
              "    }\n",
              "    element.appendChild(document.createTextNode(''));\n",
              "    const url = await google.colab.kernel.proxyPort(port, {cache});\n",
              "    const iframe = document.createElement('iframe');\n",
              "    iframe.src = new URL(path, url).toString();\n",
              "    iframe.height = height;\n",
              "    iframe.width = width;\n",
              "    iframe.style.border = 0;\n",
              "    iframe.allow = [\n",
              "        'accelerometer',\n",
              "        'autoplay',\n",
              "        'camera',\n",
              "        'clipboard-read',\n",
              "        'clipboard-write',\n",
              "        'gyroscope',\n",
              "        'magnetometer',\n",
              "        'microphone',\n",
              "        'serial',\n",
              "        'usb',\n",
              "        'xr-spatial-tracking',\n",
              "    ].join('; ');\n",
              "    element.appendChild(iframe);\n",
              "  })(8050, \"/\", \"100%\", 650, false, window.element)"
            ]
          },
          "metadata": {}
        }
      ]
    },
    {
      "cell_type": "code",
      "source": [
        "!pip install dash plotly"
      ],
      "metadata": {
        "colab": {
          "base_uri": "https://localhost:8080/"
        },
        "id": "MqQSmpCltLeg",
        "outputId": "f779da86-74e1-48ac-b161-63f9917864d3"
      },
      "execution_count": 8,
      "outputs": [
        {
          "output_type": "stream",
          "name": "stdout",
          "text": [
            "Requirement already satisfied: dash in /usr/local/lib/python3.10/dist-packages (2.17.1)\n",
            "Requirement already satisfied: plotly in /usr/local/lib/python3.10/dist-packages (5.15.0)\n",
            "Requirement already satisfied: Flask<3.1,>=1.0.4 in /usr/local/lib/python3.10/dist-packages (from dash) (2.2.5)\n",
            "Requirement already satisfied: Werkzeug<3.1 in /usr/local/lib/python3.10/dist-packages (from dash) (3.0.3)\n",
            "Requirement already satisfied: dash-html-components==2.0.0 in /usr/local/lib/python3.10/dist-packages (from dash) (2.0.0)\n",
            "Requirement already satisfied: dash-core-components==2.0.0 in /usr/local/lib/python3.10/dist-packages (from dash) (2.0.0)\n",
            "Requirement already satisfied: dash-table==5.0.0 in /usr/local/lib/python3.10/dist-packages (from dash) (5.0.0)\n",
            "Requirement already satisfied: importlib-metadata in /usr/local/lib/python3.10/dist-packages (from dash) (7.1.0)\n",
            "Requirement already satisfied: typing-extensions>=4.1.1 in /usr/local/lib/python3.10/dist-packages (from dash) (4.12.2)\n",
            "Requirement already satisfied: requests in /usr/local/lib/python3.10/dist-packages (from dash) (2.31.0)\n",
            "Requirement already satisfied: retrying in /usr/local/lib/python3.10/dist-packages (from dash) (1.3.4)\n",
            "Requirement already satisfied: nest-asyncio in /usr/local/lib/python3.10/dist-packages (from dash) (1.6.0)\n",
            "Requirement already satisfied: setuptools in /usr/local/lib/python3.10/dist-packages (from dash) (67.7.2)\n",
            "Requirement already satisfied: tenacity>=6.2.0 in /usr/local/lib/python3.10/dist-packages (from plotly) (8.3.0)\n",
            "Requirement already satisfied: packaging in /usr/local/lib/python3.10/dist-packages (from plotly) (24.1)\n",
            "Requirement already satisfied: Jinja2>=3.0 in /usr/local/lib/python3.10/dist-packages (from Flask<3.1,>=1.0.4->dash) (3.1.4)\n",
            "Requirement already satisfied: itsdangerous>=2.0 in /usr/local/lib/python3.10/dist-packages (from Flask<3.1,>=1.0.4->dash) (2.2.0)\n",
            "Requirement already satisfied: click>=8.0 in /usr/local/lib/python3.10/dist-packages (from Flask<3.1,>=1.0.4->dash) (8.1.7)\n",
            "Requirement already satisfied: MarkupSafe>=2.1.1 in /usr/local/lib/python3.10/dist-packages (from Werkzeug<3.1->dash) (2.1.5)\n",
            "Requirement already satisfied: zipp>=0.5 in /usr/local/lib/python3.10/dist-packages (from importlib-metadata->dash) (3.19.2)\n",
            "Requirement already satisfied: charset-normalizer<4,>=2 in /usr/local/lib/python3.10/dist-packages (from requests->dash) (3.3.2)\n",
            "Requirement already satisfied: idna<4,>=2.5 in /usr/local/lib/python3.10/dist-packages (from requests->dash) (3.7)\n",
            "Requirement already satisfied: urllib3<3,>=1.21.1 in /usr/local/lib/python3.10/dist-packages (from requests->dash) (2.0.7)\n",
            "Requirement already satisfied: certifi>=2017.4.17 in /usr/local/lib/python3.10/dist-packages (from requests->dash) (2024.6.2)\n",
            "Requirement already satisfied: six>=1.7.0 in /usr/local/lib/python3.10/dist-packages (from retrying->dash) (1.16.0)\n"
          ]
        }
      ]
    },
    {
      "cell_type": "code",
      "source": [
        "import numpy as np\n",
        "import dash\n",
        "from dash import dcc, html\n",
        "from dash.dependencies import Input, Output, State\n",
        "import plotly.graph_objs as go\n",
        "\n",
        "# SEIRDV model parameters\n",
        "alpha = 0.2\n",
        "gamma1 = 0.1\n",
        "gamma2 = 0.1\n",
        "gamma3 = 0.1\n",
        "rho1 = 0.05\n",
        "rho2 = 0.05\n",
        "chi = 0.03\n",
        "kappa = 0.01\n",
        "lambda1 = 0.3\n",
        "lambda2 = 0.2\n",
        "lambda3 = 0.1\n",
        "delta = 0.01  # Vaccination rate\n",
        "tau = 0.1  # Vaccine efficacy\n",
        "sigma1 = sigma2 = sigma3 = sigma4 = sigma5 = sigma6 = sigma7 = sigma8 = 0.01\n",
        "\n",
        "# Simulation settings\n",
        "T = 356  # total time in days\n",
        "dt = 0.1  # time step\n",
        "n_steps = int(T / dt)\n",
        "\n",
        "# Stochastic Runge-Kutta (SRK) method\n",
        "def SRK2_step(f, x, dt, sigma, dB):\n",
        "    k1 = dt * f(x)\n",
        "    k2 = dt * f(x + k1) + sigma * dB\n",
        "    return x + (k1 + k2) / 2\n",
        "\n",
        "# Differential equations\n",
        "def SEIRDV_model(x):\n",
        "    S, E, I1, I2, I3, R, D, V = x\n",
        "\n",
        "    dS = - (lambda1 * I1 + lambda2 * I2 + lambda3 * I3) * S\n",
        "    dE = (lambda1 * I1 + lambda2 * I2 + lambda3 * I3) * S - alpha * E - kappa * E + tau * V * (lambda1 * I1 + lambda2 * I2 + lambda3 * I3)\n",
        "    dI1 = alpha * E - gamma1 * I1 - rho1 * I1 - kappa * I1\n",
        "    dI2 = rho1 * I1 - gamma2 * I2 - rho2 * I2 - kappa * I2\n",
        "    dI3 = rho2 * I2 - gamma3 * I3 - chi * I3 - kappa * I3\n",
        "    dR = gamma1 * I1 + gamma2 * I2 + gamma3 * I3 - kappa * R\n",
        "    dD = chi * I3\n",
        "    dV = S * delta - tau * V * (lambda1 * I1 + lambda2 * I2 + lambda3 * I3) - kappa * V\n",
        "\n",
        "    return np.array([dS, dE, dI1, dI2, dI3, dR, dD, dV])\n",
        "\n",
        "# Create the Dash app\n",
        "app = dash.Dash(__name__)\n",
        "\n",
        "# Define layout\n",
        "app.layout = html.Div([\n",
        "    html.H1(\"SEIRDV Model Simulation Dashboard\"),\n",
        "    html.Div([\n",
        "        html.Div([\n",
        "            html.Label(\"Initial Susceptible (S0)\"),\n",
        "            dcc.Input(id='S0-input', type='number', value=0.9, step=0.01),\n",
        "            html.Label(\"Initial Exposed (E0)\"),\n",
        "            dcc.Input(id='E0-input', type='number', value=0.05, step=0.01),\n",
        "            html.Label(\"Initial Infected 1 (I1_0)\"),\n",
        "            dcc.Input(id='I1_0-input', type='number', value=0.01, step=0.01),\n",
        "            html.Label(\"Initial Infected 2 (I2_0)\"),\n",
        "            dcc.Input(id='I2_0-input', type='number', value=0.01, step=0.01),\n",
        "            html.Label(\"Initial Infected 3 (I3_0)\"),\n",
        "            dcc.Input(id='I3_0-input', type='number', value=0.01, step=0.01),\n",
        "            html.Label(\"Initial Recovered (R0)\"),\n",
        "            dcc.Input(id='R0-input', type='number', value=0.0, step=0.01),\n",
        "            html.Label(\"Initial Deceased (D0)\"),\n",
        "            dcc.Input(id='D0-input', type='number', value=0.0, step=0.01),\n",
        "            html.Label(\"Initial Vaccinated (V0)\"),\n",
        "            dcc.Input(id='V0-input', type='number', value=0.02, step=0.01),\n",
        "            html.Button('Run Simulation', id='run-button', n_clicks=0)\n",
        "        ], style={'width': '20%', 'display': 'inline-block', 'verticalAlign': 'top'}),\n",
        "        html.Div([\n",
        "            dcc.Graph(id='seirdv-graph')\n",
        "        ], style={'width': '75%', 'display': 'inline-block'})\n",
        "    ])\n",
        "])\n",
        "\n",
        "@app.callback(\n",
        "    Output('seirdv-graph', 'figure'),\n",
        "    [Input('run-button', 'n_clicks')],\n",
        "    [State('S0-input', 'value'),\n",
        "     State('E0-input', 'value'),\n",
        "     State('I1_0-input', 'value'),\n",
        "     State('I2_0-input', 'value'),\n",
        "     State('I3_0-input', 'value'),\n",
        "     State('R0-input', 'value'),\n",
        "     State('D0-input', 'value'),\n",
        "     State('V0-input', 'value')]\n",
        ")\n",
        "def update_graph(n_clicks, S0, E0, I1_0, I2_0, I3_0, R0, D0, V0):\n",
        "    initial_conditions = np.array([S0, E0, I1_0, I2_0, I3_0, R0, D0, V0])\n",
        "\n",
        "    # Initialize arrays to store results\n",
        "    results = np.zeros((n_steps, 8))\n",
        "    results[0] = initial_conditions\n",
        "\n",
        "    # Brownian motion increments\n",
        "    dB = np.random.normal(0, np.sqrt(dt), (n_steps, 8))\n",
        "\n",
        "    # Simulation loop\n",
        "    for t in range(1, n_steps):\n",
        "        x = results[t-1]\n",
        "        results[t] = SRK2_step(SEIRDV_model, x, dt, np.array([sigma1, sigma2, sigma3, sigma4, sigma5, sigma6, sigma7, sigma8]), dB[t])\n",
        "\n",
        "    time = np.linspace(0, T, n_steps)\n",
        "    traces = []\n",
        "    labels = ['S', 'E', 'I1', 'I2', 'I3', 'R', 'D', 'V']\n",
        "\n",
        "    for i, label in enumerate(labels):\n",
        "        traces.append(go.Scatter(\n",
        "            x=time,\n",
        "            y=results[:, i],\n",
        "            mode='lines',\n",
        "            name=label\n",
        "        ))\n",
        "\n",
        "    return {\n",
        "        'data': traces,\n",
        "        'layout': go.Layout(\n",
        "            title='SEIRDV Model Simulation (Runge-Kutta Method)',\n",
        "            xaxis={'title': 'Days'},\n",
        "            yaxis={'title': 'Proportion of Population'},\n",
        "            hovermode='closest'\n",
        "        )\n",
        "    }\n",
        "\n",
        "# Run the app\n",
        "if __name__ == '__main__':\n",
        "    app.run_server(debug=True)\n"
      ],
      "metadata": {
        "colab": {
          "base_uri": "https://localhost:8080/",
          "height": 671
        },
        "id": "LSgGGNL7tfia",
        "outputId": "565d1bd6-165d-4001-c50d-09aa508e82c0"
      },
      "execution_count": 9,
      "outputs": [
        {
          "output_type": "display_data",
          "data": {
            "text/plain": [
              "<IPython.core.display.Javascript object>"
            ],
            "application/javascript": [
              "(async (port, path, width, height, cache, element) => {\n",
              "    if (!google.colab.kernel.accessAllowed && !cache) {\n",
              "      return;\n",
              "    }\n",
              "    element.appendChild(document.createTextNode(''));\n",
              "    const url = await google.colab.kernel.proxyPort(port, {cache});\n",
              "    const iframe = document.createElement('iframe');\n",
              "    iframe.src = new URL(path, url).toString();\n",
              "    iframe.height = height;\n",
              "    iframe.width = width;\n",
              "    iframe.style.border = 0;\n",
              "    iframe.allow = [\n",
              "        'accelerometer',\n",
              "        'autoplay',\n",
              "        'camera',\n",
              "        'clipboard-read',\n",
              "        'clipboard-write',\n",
              "        'gyroscope',\n",
              "        'magnetometer',\n",
              "        'microphone',\n",
              "        'serial',\n",
              "        'usb',\n",
              "        'xr-spatial-tracking',\n",
              "    ].join('; ');\n",
              "    element.appendChild(iframe);\n",
              "  })(8050, \"/\", \"100%\", 650, false, window.element)"
            ]
          },
          "metadata": {}
        }
      ]
    }
  ]
}